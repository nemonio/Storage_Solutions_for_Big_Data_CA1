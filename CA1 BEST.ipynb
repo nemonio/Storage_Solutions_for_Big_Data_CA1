{
 "cells": [
  {
   "cell_type": "code",
   "execution_count": 33,
   "id": "afa6c3a3",
   "metadata": {},
   "outputs": [
    {
     "name": "stdout",
     "output_type": "stream",
     "text": [
      "local[*]\n",
      "+---------------+--------------------+--------------------+--------------------+--------+\n",
      "|          ALink|               SName|               SLink|               Lyric|language|\n",
      "+---------------+--------------------+--------------------+--------------------+--------+\n",
      "|/ivete-sangalo/|               Arerê|/ivete-sangalo/ar...|Tudo o que eu que...|      pt|\n",
      "|/ivete-sangalo/|Se Eu Não Te Amas...|/ivete-sangalo/se...|Meu coração\\nSem ...|      pt|\n",
      "|/ivete-sangalo/|         Céu da Boca|/ivete-sangalo/ch...|É de babaixá!\\nÉ ...|      pt|\n",
      "|/ivete-sangalo/|Quando A Chuva Pa...|/ivete-sangalo/qu...|Quando a chuva pa...|      pt|\n",
      "|/ivete-sangalo/|        Sorte Grande|/ivete-sangalo/so...|A minha sorte gra...|      pt|\n",
      "|/ivete-sangalo/|    A Lua Q Eu T Dei|/ivete-sangalo/a-...|Posso te falar do...|      pt|\n",
      "|/ivete-sangalo/|Mulheres Não Têm ...|/ivete-sangalo/mu...|Hey, girl\\nLevant...|      pt|\n",
      "|/ivete-sangalo/|Eva / Alô Paixão ...|/ivete-sangalo/ev...|'EVA'\\n(Giancarlo...|      pt|\n",
      "|/ivete-sangalo/|      Flor do Reggae|/ivete-sangalo/fl...|Um brilho de amor...|      pt|\n",
      "|/ivete-sangalo/|         Carro Velho|/ivete-sangalo/ca...|Cheiro de pneu qu...|      pt|\n",
      "|/ivete-sangalo/|  Muito Obrigado Axé|/ivete-sangalo/mu...|Odô, axé odô, axé...|      pt|\n",
      "|/ivete-sangalo/|   Não Precisa Mudar|/ivete-sangalo/na...|Não precisa mudar...|      pt|\n",
      "|/ivete-sangalo/|Nada Vai Nos Separar|/ivete-sangalo/na...|Toda vez que eu p...|      pt|\n",
      "|/ivete-sangalo/|    Tempo de Alegria|/ivete-sangalo/te...|É amor\\nÉ tanto a...|      pt|\n",
      "|/ivete-sangalo/|        Agora Já Sei|/ivete-sangalo/ag...|Duvidava, não ent...|      pt|\n",
      "|/ivete-sangalo/|               Deixo|/ivete-sangalo/de...|Eu me lembro semp...|      pt|\n",
      "|/ivete-sangalo/|Não Me Conte Seus...|/ivete-sangalo/na...|Ivete Sangalooooo...|      pt|\n",
      "|/ivete-sangalo/|País Tropical / A...|/ivete-sangalo/pa...|Moro...\\nNum país...|      pt|\n",
      "|/ivete-sangalo/|            Na Bahia|/ivete-sangalo/na...|Na Bahia ia ia ia...|      pt|\n",
      "|/ivete-sangalo/|            Completo|/ivete-sangalo/co...|É tão bom ter alg...|      pt|\n",
      "+---------------+--------------------+--------------------+--------------------+--------+\n",
      "only showing top 20 rows\n",
      "\n"
     ]
    }
   ],
   "source": [
    "# Check the master URL of the SparkContext\n",
    "print(sc.master)\n",
    "\n",
    "# Read a CSV file into a DataFrame\n",
    "#df = spark.read.option(\"header\", \"true\").option(\"inferSchema\", \"true\").csv(\"hdfs:///CA1/lyrics-data.csv\")\n",
    "#df = spark.read.csv(\"hdfs:///CA1/lyrics-data.csv\", header = True)\n",
    "#df = spark.read.csv(\"hdfs:///CA1/artists-data.csv\", header = True)\n",
    "\n",
    "df = spark.read.csv(\"hdfs:///CA1/lyrics-dataQUO.csv\", sep='\\t', header=True, multiLine = True, escape = \"\\n\")\n",
    "\n",
    "#df = spark.read.csv(\"hdfs:///CA1/azlyrics-scraper/azlyrics_lyrics_19.csv\", header = True)\n",
    "df.show(20)"
   ]
  },
  {
   "cell_type": "code",
   "execution_count": 34,
   "id": "110341dd",
   "metadata": {},
   "outputs": [
    {
     "name": "stderr",
     "output_type": "stream",
     "text": [
      "\r",
      "[Stage 56:>                                                         (0 + 1) / 1]\r"
     ]
    },
    {
     "name": "stdout",
     "output_type": "stream",
     "text": [
      "+--------------------+\n",
      "|            language|\n",
      "+--------------------+\n",
      "|                  en|\n",
      "|                  vi|\n",
      "|/bb-king/youre-on...|\n",
      "|                  ro|\n",
      "|                  lv|\n",
      "|                  pl|\n",
      "|                  st|\n",
      "|                  pt|\n",
      "|/earth-wind-and-f...|\n",
      "|                null|\n",
      "|                  gl|\n",
      "|                  tl|\n",
      "|                  sw|\n",
      "|                  ko|\n",
      "|                  ms|\n",
      "|                  cs|\n",
      "|/chicago/take-the...|\n",
      "|                  mg|\n",
      "|                  sr|\n",
      "|/so-pra-contraria...|\n",
      "+--------------------+\n",
      "only showing top 20 rows\n",
      "\n"
     ]
    },
    {
     "name": "stderr",
     "output_type": "stream",
     "text": [
      "\r",
      "                                                                                \r"
     ]
    }
   ],
   "source": [
    "# Find unique values for a specific column\n",
    "unique_values = df.select(\"language\").distinct()\n",
    "\n",
    "# Show the unique values\n",
    "unique_values.show()\n"
   ]
  },
  {
   "cell_type": "code",
   "execution_count": 46,
   "id": "6f0e1d7f",
   "metadata": {},
   "outputs": [
    {
     "name": "stderr",
     "output_type": "stream",
     "text": [
      "\r",
      "[Stage 64:>                                                         (0 + 1) / 1]\r"
     ]
    },
    {
     "name": "stdout",
     "output_type": "stream",
     "text": [
      "Number of rows with 'language' > 2 characters: 12\n"
     ]
    },
    {
     "name": "stderr",
     "output_type": "stream",
     "text": [
      "\r",
      "                                                                                \r"
     ]
    }
   ],
   "source": [
    "from pyspark.sql.functions import length\n",
    "\n",
    "\n",
    "# Count rows where \"language\" column has more than 2 characters\n",
    "filtered_df = df.filter(length(df.language) > 2)\n",
    "row_count = filtered_df.count()\n",
    "\n",
    "# Print the number of rows\n",
    "print(\"Number of rows with 'language' > 2 characters:\", row_count)\n",
    "\n"
   ]
  },
  {
   "cell_type": "code",
   "execution_count": 48,
   "id": "d1c31e20",
   "metadata": {},
   "outputs": [
    {
     "name": "stdout",
     "output_type": "stream",
     "text": [
      "+---------------+--------------------+--------------------+--------------------+--------+\n",
      "|          ALink|               SName|               SLink|               Lyric|language|\n",
      "+---------------+--------------------+--------------------+--------------------+--------+\n",
      "|/ivete-sangalo/|               Arerê|/ivete-sangalo/ar...|Tudo o que eu que...|      pt|\n",
      "|/ivete-sangalo/|Se Eu Não Te Amas...|/ivete-sangalo/se...|Meu coração\\nSem ...|      pt|\n",
      "|/ivete-sangalo/|         Céu da Boca|/ivete-sangalo/ch...|É de babaixá!\\nÉ ...|      pt|\n",
      "|/ivete-sangalo/|Quando A Chuva Pa...|/ivete-sangalo/qu...|Quando a chuva pa...|      pt|\n",
      "|/ivete-sangalo/|        Sorte Grande|/ivete-sangalo/so...|A minha sorte gra...|      pt|\n",
      "|/ivete-sangalo/|    A Lua Q Eu T Dei|/ivete-sangalo/a-...|Posso te falar do...|      pt|\n",
      "|/ivete-sangalo/|Mulheres Não Têm ...|/ivete-sangalo/mu...|Hey, girl\\nLevant...|      pt|\n",
      "|/ivete-sangalo/|Eva / Alô Paixão ...|/ivete-sangalo/ev...|'EVA'\\n(Giancarlo...|      pt|\n",
      "|/ivete-sangalo/|      Flor do Reggae|/ivete-sangalo/fl...|Um brilho de amor...|      pt|\n",
      "|/ivete-sangalo/|         Carro Velho|/ivete-sangalo/ca...|Cheiro de pneu qu...|      pt|\n",
      "|/ivete-sangalo/|  Muito Obrigado Axé|/ivete-sangalo/mu...|Odô, axé odô, axé...|      pt|\n",
      "|/ivete-sangalo/|   Não Precisa Mudar|/ivete-sangalo/na...|Não precisa mudar...|      pt|\n",
      "|/ivete-sangalo/|Nada Vai Nos Separar|/ivete-sangalo/na...|Toda vez que eu p...|      pt|\n",
      "|/ivete-sangalo/|    Tempo de Alegria|/ivete-sangalo/te...|É amor\\nÉ tanto a...|      pt|\n",
      "|/ivete-sangalo/|        Agora Já Sei|/ivete-sangalo/ag...|Duvidava, não ent...|      pt|\n",
      "|/ivete-sangalo/|               Deixo|/ivete-sangalo/de...|Eu me lembro semp...|      pt|\n",
      "|/ivete-sangalo/|Não Me Conte Seus...|/ivete-sangalo/na...|Ivete Sangalooooo...|      pt|\n",
      "|/ivete-sangalo/|País Tropical / A...|/ivete-sangalo/pa...|Moro...\\nNum país...|      pt|\n",
      "|/ivete-sangalo/|            Na Bahia|/ivete-sangalo/na...|Na Bahia ia ia ia...|      pt|\n",
      "|/ivete-sangalo/|            Completo|/ivete-sangalo/co...|É tão bom ter alg...|      pt|\n",
      "+---------------+--------------------+--------------------+--------------------+--------+\n",
      "only showing top 20 rows\n",
      "\n"
     ]
    }
   ],
   "source": [
    "from pyspark.sql.functions import length\n",
    "\n",
    "\n",
    "# Filter rows to keep only those where \"language\" column has <= 2 characters\n",
    "filtered_df = df.filter(length(df.language) <= 2)\n",
    "\n",
    "# Show the filtered DataFrame (optional)\n",
    "filtered_df.show()\n"
   ]
  },
  {
   "cell_type": "code",
   "execution_count": 51,
   "id": "d2a071c5",
   "metadata": {},
   "outputs": [
    {
     "name": "stderr",
     "output_type": "stream",
     "text": [
      "\r",
      "[Stage 74:>                                                         (0 + 1) / 1]\r"
     ]
    },
    {
     "name": "stdout",
     "output_type": "stream",
     "text": [
      "+--------+\n",
      "|language|\n",
      "+--------+\n",
      "|      en|\n",
      "|      vi|\n",
      "|      ro|\n",
      "|      lv|\n",
      "|      pl|\n",
      "|      st|\n",
      "|      pt|\n",
      "|      gl|\n",
      "|      tl|\n",
      "|      sw|\n",
      "|      ko|\n",
      "|      ms|\n",
      "|      cs|\n",
      "|      mg|\n",
      "|      sr|\n",
      "|      tr|\n",
      "|      de|\n",
      "|      is|\n",
      "|      es|\n",
      "|      hr|\n",
      "|      eu|\n",
      "|      lg|\n",
      "|      it|\n",
      "|      af|\n",
      "|      ku|\n",
      "|      su|\n",
      "|      ar|\n",
      "|      sv|\n",
      "|      nl|\n",
      "|      rw|\n",
      "|      hu|\n",
      "|      ca|\n",
      "|      ru|\n",
      "|      iw|\n",
      "|      ga|\n",
      "|      ht|\n",
      "|      no|\n",
      "|      fa|\n",
      "|      cy|\n",
      "|      et|\n",
      "|      zh|\n",
      "|      fr|\n",
      "|      ja|\n",
      "|      gd|\n",
      "|      id|\n",
      "|      ny|\n",
      "|      da|\n",
      "|      sq|\n",
      "|      fi|\n",
      "|      jw|\n",
      "+--------+\n",
      "\n"
     ]
    },
    {
     "name": "stderr",
     "output_type": "stream",
     "text": [
      "\r",
      "                                                                                \r"
     ]
    }
   ],
   "source": [
    "# Find unique values for a specific column\n",
    "unique_values = filtered_df.select(\"language\").distinct()\n",
    "\n",
    "# Show the unique values\n",
    "unique_values.show(100)"
   ]
  },
  {
   "cell_type": "code",
   "execution_count": 45,
   "id": "025faa2e",
   "metadata": {},
   "outputs": [
    {
     "name": "stderr",
     "output_type": "stream",
     "text": [
      "Row 0: Row(ALink='/bb-king/', SName=\"You're Losing Me\", SLink='/bb-king/youre-losing-me.html', Lyric='\"If you can\\'t do no better, think I\\'d better get another that can\\nYes, if you can\\'t do no better, think I\\'d better get another that can\\nYou know you\\'re going around and cheap on me\\nYou\\'re doing nothing but losing a good man\\nYou know life is too short to be worry, and I think you are not to understand\\nYeah, life is too short to be worry think you are not to understand\\nYou\\'re keep going around and cheap on me\\nYou ain\\'t doing nothing but losing a good man\\nIf I never said hello to you baby then I won\\'t be say good bye\\nHey, if I never said hello to you baby then I won\\'t be say good bye\\nI got my cloths already packed now\\nI\\'m so hurt, I wanna cry\\nOh, can you hear me, hear me baby?\\nCan you hear me?\\nOh, I got my cloths\\nMy cloths already packed now\\nI\\'m so hurt, I wanna cry\\nI wanna know why you treat me like you do baby\\nI wanna never tell me why\\nYes, if you can\\'t do me no better baby, think I\\'d better get another baby that can\\nYes, if you can\\'t do me no better baby, think I\\'d better get another baby that can\\nThe way you treat me now baby, you ain\\'t doing nothing but losing a good man\\nHey, life is too short to be worry and I think you are not to understand\\nHey, I say life is too short to be worry and I think you are not to understand\\nThe way you treat me now baby, you ain\\'t doing nothing but losing a good man\\nWhat you say now!\"\\ten\\n/bb-king/\\t\"You\\'re on top (Blues In \"\"G\"\")\"', language='/bb-king/youre-on-top-blues-in-quotgquot.html')\n",
      "                                                                                \r"
     ]
    }
   ],
   "source": [
    "# Text to search for\n",
    "search_text = \"/bb-king/youre-on\"\n",
    "\n",
    "# Filter rows containing the search text\n",
    "filtered_df = df.filter(df.Lyric.contains(search_text) | df.language.contains(search_text))\n",
    "\n",
    "# Show the filtered DataFrame and row numbers\n",
    "filtered_df.rdd.zipWithIndex().foreach(lambda row_index: print(f\"Row {row_index[1]}: {row_index[0]}\"))\n"
   ]
  },
  {
   "cell_type": "code",
   "execution_count": 32,
   "id": "451a8baa",
   "metadata": {},
   "outputs": [
    {
     "name": "stdout",
     "output_type": "stream",
     "text": [
      "+------------------------------------+\n",
      "|ALink\\tSName\\tSLink\\tLyric\\tlanguage|\n",
      "+------------------------------------+\n",
      "|                /ivete-sangalo/\\t...|\n",
      "|                           Toda vida|\n",
      "|                         É amar você|\n",
      "|                           Amar você|\n",
      "|                O seu amor é como...|\n",
      "|                    Queima de prazer|\n",
      "|                           De prazer|\n",
      "|                Eu já falei com D...|\n",
      "|                Vou te levar pra ...|\n",
      "|                      Qualquer lugar|\n",
      "|                Já fiz de tudo pr...|\n",
      "|                               Arerê|\n",
      "|                            Um lobby|\n",
      "|                               Arerê|\n",
      "|                            Um lobby|\n",
      "|                                 Cai|\n",
      "|                                 Hey|\n",
      "|                               Tu-do|\n",
      "|                /ivete-sangalo/\\t...|\n",
      "|                         Sem direção|\n",
      "+------------------------------------+\n",
      "only showing top 20 rows\n",
      "\n"
     ]
    }
   ],
   "source": [
    "# Specify configuration options for reading the CSV file\n",
    "df = (spark.read\n",
    "    .option(\"header\", \"true\")\n",
    "    .option(\"escape\", \"\\\\\")\n",
    "    .option(\"quote\", \"\\\"\")\n",
    "    .option(\"ignoreLeadingWhiteSpace\", \"true\")\n",
    "    .option(\"ignoreTrailingWhiteSpace\", \"true\")\n",
    "    .csv(\"hdfs:///CA1/lyrics-dataTAB.csv\"))\n",
    "\n",
    "df.show(20)\n"
   ]
  },
  {
   "cell_type": "code",
   "execution_count": null,
   "id": "51ba995a",
   "metadata": {},
   "outputs": [],
   "source": [
    "# Assuming you have a SparkSession 'spark'\n",
    "\n",
    "# Load the TSV file from Hadoop into a DataFrame\n",
    "loaded_df = spark.read.option(\"delimiter\", \"\\t\").csv(\"hdfs:///CA1/lyrics-data.csv\", header=True, sep=\"\\t\")\n"
   ]
  },
  {
   "cell_type": "code",
   "execution_count": 52,
   "id": "604875bc",
   "metadata": {},
   "outputs": [],
   "source": [
    "language_mapping_data = [\n",
    "    (\"en\", \"English\"),\n",
    "    (\"vi\", \"Vietnamese\"),\n",
    "    (\"ro\", \"Romanian\"),\n",
    "    (\"lv\", \"Latvian\"),\n",
    "    (\"pl\", \"Polish\"),\n",
    "    (\"st\", \"Sotho\"),\n",
    "    (\"pt\", \"Portuguese\"),\n",
    "    (\"gl\", \"Galician\"),\n",
    "    (\"tl\", \"Tagalog\"),\n",
    "    (\"sw\", \"Swahili\"),\n",
    "    (\"ko\", \"Korean\"),\n",
    "    (\"ms\", \"Malay\"),\n",
    "    (\"cs\", \"Czech\"),\n",
    "    (\"mg\", \"Malagasy\"),\n",
    "    (\"sr\", \"Serbian\"),\n",
    "    (\"tr\", \"Turkish\"),\n",
    "    (\"de\", \"German\"),\n",
    "    (\"is\", \"Icelandic\"),\n",
    "    (\"es\", \"Spanish\"),\n",
    "    (\"hr\", \"Croatian\"),\n",
    "    (\"eu\", \"Basque\"),\n",
    "    (\"lg\", \"Ganda\"),\n",
    "    (\"it\", \"Italian\"),\n",
    "    (\"af\", \"Afrikaans\"),\n",
    "    (\"ku\", \"Kurdish\"),\n",
    "    (\"su\", \"Sundanese\"),\n",
    "    (\"ar\", \"Arabic\"),\n",
    "    (\"sv\", \"Swedish\"),\n",
    "    (\"nl\", \"Dutch\"),\n",
    "    (\"rw\", \"Kinyarwanda\"),\n",
    "    (\"hu\", \"Hungarian\"),\n",
    "    (\"ca\", \"Catalan\"),\n",
    "    (\"ru\", \"Russian\"),\n",
    "    (\"iw\", \"Hebrew\"),\n",
    "    (\"ga\", \"Irish\"),\n",
    "    (\"ht\", \"Haitian Creole\"),\n",
    "    (\"no\", \"Norwegian\"),\n",
    "    (\"fa\", \"Persian\"),\n",
    "    (\"cy\", \"Welsh\"),\n",
    "    (\"et\", \"Estonian\"),\n",
    "    (\"zh\", \"Chinese\"),\n",
    "    (\"fr\", \"French\"),\n",
    "    (\"ja\", \"Japanese\"),\n",
    "    (\"gd\", \"Scottish Gaelic\"),\n",
    "    (\"id\", \"Indonesian\"),\n",
    "    (\"ny\", \"Chichewa\"),\n",
    "    (\"da\", \"Danish\"),\n",
    "    (\"sq\", \"Albanian\"),\n",
    "    (\"fi\", \"Finnish\"),\n",
    "    (\"jw\", \"Javanese\"),\n",
    "    # You can add more mappings here\n",
    "]\n"
   ]
  },
  {
   "cell_type": "code",
   "execution_count": null,
   "id": "ee76f152",
   "metadata": {},
   "outputs": [],
   "source": []
  }
 ],
 "metadata": {
  "kernelspec": {
   "display_name": "Python 3 (ipykernel)",
   "language": "python",
   "name": "python3"
  },
  "language_info": {
   "codemirror_mode": {
    "name": "ipython",
    "version": 3
   },
   "file_extension": ".py",
   "mimetype": "text/x-python",
   "name": "python",
   "nbconvert_exporter": "python",
   "pygments_lexer": "ipython3",
   "version": "3.10.12"
  }
 },
 "nbformat": 4,
 "nbformat_minor": 5
}
